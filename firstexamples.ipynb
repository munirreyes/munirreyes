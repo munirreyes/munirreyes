{
  "nbformat": 4,
  "nbformat_minor": 0,
  "metadata": {
    "colab": {
      "provenance": [],
      "authorship_tag": "ABX9TyOKVFhkbdLaG3jQ4GtbDn19",
      "include_colab_link": true
    },
    "kernelspec": {
      "name": "python3",
      "display_name": "Python 3"
    },
    "language_info": {
      "name": "python"
    }
  },
  "cells": [
    {
      "cell_type": "markdown",
      "metadata": {
        "id": "view-in-github",
        "colab_type": "text"
      },
      "source": [
        "<a href=\"https://colab.research.google.com/github/munirreyes/munirreyes/blob/main/firstexamples.ipynb\" target=\"_parent\"><img src=\"https://colab.research.google.com/assets/colab-badge.svg\" alt=\"Open In Colab\"/></a>"
      ]
    },
    {
      "cell_type": "code",
      "execution_count": 4,
      "metadata": {
        "colab": {
          "base_uri": "https://localhost:8080/",
          "height": 140
        },
        "id": "xhXcs2QzGE20",
        "outputId": "c4acd54a-ee70-4b6d-897a-5f9ffa73f3ce"
      },
      "outputs": [
        {
          "output_type": "error",
          "ename": "SyntaxError",
          "evalue": "expected ':' (<ipython-input-4-78d72b7416ff>, line 3)",
          "traceback": [
            "\u001b[0;36m  File \u001b[0;32m\"<ipython-input-4-78d72b7416ff>\"\u001b[0;36m, line \u001b[0;32m3\u001b[0m\n\u001b[0;31m    while Playagain == \"y\"\u001b[0m\n\u001b[0m                          ^\u001b[0m\n\u001b[0;31mSyntaxError\u001b[0m\u001b[0;31m:\u001b[0m expected ':'\n"
          ]
        }
      ],
      "source": [
        "import random\n",
        "Playagain = input(\"Do you wanna play  y/n\")\n",
        "while Playagain == \"y\"\n",
        "\n",
        "  pc_choice = random.choice(['rock','paper','scissors'])\n",
        "  userInput = input('enter rock, paper, scissors: ')\n",
        "\n",
        "  print(f'comuter chose: {pc_choice}')\n",
        "\n",
        "  if (userInput == 'rock' and pc_choice == 'scissors') or (userInput == 'paper' and pc_choice == 'rock') or (userInput == 'scissors' and pc_choice == 'paper') :\n",
        "    print (\"user wins\")\n",
        "  elif userInput == pc_choice:\n",
        "    print('its a tie')\n",
        "  else:\n",
        "    print('computer wins')\n",
        "\n",
        "\n",
        "\n"
      ]
    },
    {
      "cell_type": "code",
      "source": [
        "from os import execlpe\n",
        "userInput = int(input('enter a year: '))\n",
        "\n",
        "if userInput % 100 == 0:\n",
        "  if userInput % 400 == 0:\n",
        "    print ('this is a leap year')\n",
        "  else:\n",
        "    print('this is not a leap year')\n",
        "\n",
        "elif userInput % 4 == 0:\n",
        "  print ('this is a leap year.')\n",
        "\n",
        "else:\n",
        "  print('this is not a leap year')\n",
        "\n"
      ],
      "metadata": {
        "colab": {
          "base_uri": "https://localhost:8080/"
        },
        "id": "jV4PsyF3K7e0",
        "outputId": "ba01757e-dcc1-4f9c-e784-2bd09153f2b0"
      },
      "execution_count": 16,
      "outputs": [
        {
          "output_type": "stream",
          "name": "stdout",
          "text": [
            "enter a year: 2200\n",
            "this is not a leap year\n"
          ]
        }
      ]
    },
    {
      "cell_type": "code",
      "source": [
        "!pip install ColabTurtlePlus"
      ],
      "metadata": {
        "colab": {
          "base_uri": "https://localhost:8080/"
        },
        "id": "PdvP12R0hS1X",
        "outputId": "97ac9c26-8062-400f-e784-ef1822a40734"
      },
      "execution_count": 1,
      "outputs": [
        {
          "output_type": "stream",
          "name": "stdout",
          "text": [
            "Collecting ColabTurtlePlus\n",
            "  Downloading ColabTurtlePlus-2.0.1-py3-none-any.whl (31 kB)\n",
            "Installing collected packages: ColabTurtlePlus\n",
            "Successfully installed ColabTurtlePlus-2.0.1\n"
          ]
        }
      ]
    },
    {
      "cell_type": "code",
      "source": [
        "from ColabTurtlePlus.Turtle import *\n",
        "\n",
        "clearscreen()\n",
        "\n",
        "color('black','green')\n",
        "begin_fill()\n",
        "jumpto(0,0)\n",
        "\n",
        "for var in range(4):\n",
        "  forward(100)\n",
        "  left(90)\n",
        "\n",
        "\n",
        "end_fill()"
      ],
      "metadata": {
        "colab": {
          "base_uri": "https://localhost:8080/",
          "height": 621
        },
        "id": "t0ZR1XoMh-eU",
        "outputId": "91e3cf18-e6ca-4396-f08c-1c4b6735fcf2"
      },
      "execution_count": 6,
      "outputs": [
        {
          "output_type": "display_data",
          "data": {
            "text/plain": [
              "<IPython.core.display.HTML object>"
            ],
            "text/html": [
              "\n",
              "      <svg width=\"800\" height=\"600\">  \n",
              "        <rect width=\"100%\" height=\"100%\" style=\"fill:white;stroke:;stroke-width:1\"/>\n",
              "        \n",
              "        \n",
              "        <path fill-rule=\"evenodd\" fill-opacity=\"1\" d=\"M 400.0 300.0  L 400.0 300.0  L 500.0 300.0  L 500.0 200.0  L 400.0 200.0  L 400.0 300.0 \" stroke-linecap=\"round\" style=\"stroke:black;stroke-width:1\" fill=\"green\" />\n",
              "        \n",
              "        \n",
              "        <g id=\"classic\" visibility=\"visible\" transform=\"rotate(-90,400.0,300.0) translate(400.0, 300.0)\">\n",
              "<polygon points=\"-5,-4.5 0,-2.5 5,-4.5 0,4.5\" transform=\"skewX(0) scale(1,1)\" style=\"stroke:black;fill:green;stroke-width:1\" />\n",
              "</g>\n",
              "      </svg>\n",
              "    "
            ]
          },
          "metadata": {}
        }
      ]
    },
    {
      "cell_type": "code",
      "source": [
        "base_fee = 5\n",
        "hourly_fee = 2.5\n",
        "\n",
        "for hour in range(1,9):\n",
        "  fee = base_fee + hourly_fee * hour\n",
        "  print(f'{hour} {fee}$')\n",
        "\n",
        "\n",
        "\n",
        "\n",
        "\n"
      ],
      "metadata": {
        "colab": {
          "base_uri": "https://localhost:8080/"
        },
        "id": "Ez6mDu9u00BE",
        "outputId": "4cf3ad05-4400-4118-9e6b-39bfba7604a8"
      },
      "execution_count": 4,
      "outputs": [
        {
          "output_type": "stream",
          "name": "stdout",
          "text": [
            "1 7.5$\n",
            "2 10.0$\n",
            "3 12.5$\n",
            "4 15.0$\n",
            "5 17.5$\n",
            "6 20.0$\n",
            "7 22.5$\n",
            "8 25.0$\n"
          ]
        }
      ]
    },
    {
      "cell_type": "code",
      "source": [
        "ticket = 10\n",
        "no_advertising = 20\n",
        "fixed_costs = 200\n",
        "\n",
        "for advertising in range(0,201,25):\n",
        ""
      ],
      "metadata": {
        "id": "xbUhgFRr70n9"
      },
      "execution_count": null,
      "outputs": []
    },
    {
      "cell_type": "code",
      "source": [],
      "metadata": {
        "id": "CIZ5y_9HKXrr"
      },
      "execution_count": null,
      "outputs": []
    }
  ]
}