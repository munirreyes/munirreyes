{
  "nbformat": 4,
  "nbformat_minor": 0,
  "metadata": {
    "colab": {
      "provenance": [],
      "authorship_tag": "ABX9TyPvCEvsFFhRn/Ul4aKRwpGd",
      "include_colab_link": true
    },
    "kernelspec": {
      "name": "python3",
      "display_name": "Python 3"
    },
    "language_info": {
      "name": "python"
    }
  },
  "cells": [
    {
      "cell_type": "markdown",
      "metadata": {
        "id": "view-in-github",
        "colab_type": "text"
      },
      "source": [
        "<a href=\"https://colab.research.google.com/github/munirreyes/munirreyes/blob/main/Date%20program.ipynb\" target=\"_parent\"><img src=\"https://colab.research.google.com/assets/colab-badge.svg\" alt=\"Open In Colab\"/></a>"
      ]
    },
    {
      "cell_type": "code",
      "source": [
        "date = input('Enter a Date: mm/dd/yyyy: ')\n",
        "\n",
        "month_date = date[0:2]\n",
        "day_date = date[3:5]\n",
        "year_date = date[6:10]\n",
        "\n",
        "print('Month:', month_date)\n",
        "print('Day:', day_date)\n",
        "print('Year:', year_date)"
      ],
      "metadata": {
        "colab": {
          "base_uri": "https://localhost:8080/"
        },
        "id": "nwYMohrG-1q_",
        "outputId": "d94dbb34-cc5c-474b-e79e-b5bd5e41c971"
      },
      "execution_count": 4,
      "outputs": [
        {
          "output_type": "stream",
          "name": "stdout",
          "text": [
            "Enter a Date: mm/dd/yyyy: 12/18/2003\n",
            "Month: 12\n",
            "Day: 18\n",
            "Year: 2003\n"
          ]
        }
      ]
    }
  ]
}