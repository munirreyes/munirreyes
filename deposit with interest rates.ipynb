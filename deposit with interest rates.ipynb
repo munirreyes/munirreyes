{
  "nbformat": 4,
  "nbformat_minor": 0,
  "metadata": {
    "colab": {
      "provenance": [],
      "authorship_tag": "ABX9TyPpyHkwc21HB2uJYpfPvWA0",
      "include_colab_link": true
    },
    "kernelspec": {
      "name": "python3",
      "display_name": "Python 3"
    },
    "language_info": {
      "name": "python"
    }
  },
  "cells": [
    {
      "cell_type": "markdown",
      "metadata": {
        "id": "view-in-github",
        "colab_type": "text"
      },
      "source": [
        "<a href=\"https://colab.research.google.com/github/munirreyes/munirreyes/blob/main/deposit%20with%20interest%20rates.ipynb\" target=\"_parent\"><img src=\"https://colab.research.google.com/assets/colab-badge.svg\" alt=\"Open In Colab\"/></a>"
      ]
    },
    {
      "cell_type": "code",
      "source": [
        "name = input('Enter your name: ')\n",
        "customertype = input('Enter customer type (n: new, e:existing): ')\n",
        "deposit = float(input(\"Enter deposit amount (in $): \"))\n",
        "\n",
        "if customertype == 'n':\n",
        "  interest = .03\n",
        "\n",
        "else:\n",
        "  if deposit <= 1000:\n",
        "    interest = 0.3\n",
        "  elif deposit <= 10000:\n",
        "    interest = .0325\n",
        "  elif deposit >10000:\n",
        "    interest = .035\n",
        "\n",
        "  total = (1+interest) * deposit\n",
        "  print(total)"
      ],
      "metadata": {
        "colab": {
          "base_uri": "https://localhost:8080/"
        },
        "id": "LZVN1ajw8Xbb",
        "outputId": "0644e909-ce42-4184-e7a2-2ef095c3b8b6"
      },
      "execution_count": 2,
      "outputs": [
        {
          "output_type": "stream",
          "name": "stdout",
          "text": [
            "Enter your name: Munir\n",
            "Enter customer type (n: new, e:existing): e\n",
            "Enter deposit amount (in $): 5000\n",
            "5162.5\n"
          ]
        }
      ]
    }
  ]
}