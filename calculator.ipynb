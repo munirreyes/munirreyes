{
  "nbformat": 4,
  "nbformat_minor": 0,
  "metadata": {
    "colab": {
      "provenance": [],
      "authorship_tag": "ABX9TyPjImwE5bHOCAGLi1lSm1PJ",
      "include_colab_link": true
    },
    "kernelspec": {
      "name": "python3",
      "display_name": "Python 3"
    },
    "language_info": {
      "name": "python"
    }
  },
  "cells": [
    {
      "cell_type": "markdown",
      "metadata": {
        "id": "view-in-github",
        "colab_type": "text"
      },
      "source": [
        "<a href=\"https://colab.research.google.com/github/munirreyes/munirreyes/blob/main/calculator.ipynb\" target=\"_parent\"><img src=\"https://colab.research.google.com/assets/colab-badge.svg\" alt=\"Open In Colab\"/></a>"
      ]
    },
    {
      "cell_type": "code",
      "execution_count": null,
      "metadata": {
        "colab": {
          "base_uri": "https://localhost:8080/"
        },
        "id": "IBz1ItBkIP8o",
        "outputId": "cd5ddb0a-dd2e-48ca-cb66-565e2d5bd646"
      },
      "outputs": [
        {
          "output_type": "stream",
          "name": "stdout",
          "text": [
            "enter first number:4\n",
            "enter the operator:+\n",
            "enter second number:4\n",
            "result:  8.0\n",
            "enter first number:9\n",
            "enter the operator:*\n",
            "enter second number:9\n",
            "result:  81.0\n",
            "enter first number:8\n",
            "enter the operator:**\n",
            "enter second number:2\n",
            "result:  64.0\n",
            "enter first number:7\n",
            "enter the operator:%\n",
            "enter second number:6\n",
            "result:  1.0\n"
          ]
        }
      ],
      "source": [
        "while True:\n",
        "  num1 = float(input('enter first number:'))\n",
        "  operator = input('enter the operator:')\n",
        "  num2 = float(input('enter second number:'))\n",
        "\n",
        "  if operator == 'break':\n",
        "    break\n",
        "\n",
        "  if operator == \"+\":\n",
        "    answer = num1 + num2\n",
        "  elif operator == \"-\":\n",
        "    answer = num1 - num2\n",
        "  elif operator == \"*\":\n",
        "    answer = num1 * num2\n",
        "  elif operator == \"/\":\n",
        "    answer = num1 / num2\n",
        "  elif operator == \"//\":\n",
        "    answer = num1 // num2\n",
        "  elif operator == \"**\":\n",
        "    answer = num1 ** num2\n",
        "  elif operator == \"%\":\n",
        "    answer = num1 % num2\n",
        "  else:\n",
        "    print('invalid operator:', operator)\n",
        "    continue\n",
        "  print(\"result: \", answer)"
      ]
    }
  ]
}