{
  "nbformat": 4,
  "nbformat_minor": 0,
  "metadata": {
    "colab": {
      "provenance": [],
      "authorship_tag": "ABX9TyMmUJp39qbcLROgKWvbTNS5",
      "include_colab_link": true
    },
    "kernelspec": {
      "name": "python3",
      "display_name": "Python 3"
    },
    "language_info": {
      "name": "python"
    }
  },
  "cells": [
    {
      "cell_type": "markdown",
      "metadata": {
        "id": "view-in-github",
        "colab_type": "text"
      },
      "source": [
        "<a href=\"https://colab.research.google.com/github/munirreyes/munirreyes/blob/main/rock%2C%20paper%2C%20scissors.ipynb\" target=\"_parent\"><img src=\"https://colab.research.google.com/assets/colab-badge.svg\" alt=\"Open In Colab\"/></a>"
      ]
    },
    {
      "cell_type": "code",
      "execution_count": null,
      "metadata": {
        "colab": {
          "base_uri": "https://localhost:8080/"
        },
        "id": "qDzPenmMJN_o",
        "outputId": "2d8e5431-9b55-4c91-ec68-fa8c15db7287"
      },
      "outputs": [
        {
          "output_type": "stream",
          "name": "stdout",
          "text": [
            "Do you wanna play  y/ny\n",
            "enter rock, paper, scissors: rock\n",
            "comuter chose: paper\n",
            "computer wins\n",
            "enter rock, paper, scissors: paper\n",
            "comuter chose: rock\n",
            "user wins\n",
            "enter rock, paper, scissors: scissors\n",
            "comuter chose: paper\n",
            "user wins\n",
            "enter rock, paper, scissors: rock\n",
            "comuter chose: rock\n",
            "its a tie\n"
          ]
        }
      ],
      "source": [
        "import random\n",
        "Playagain = input(\"Do you wanna play  y/n\")\n",
        "while Playagain == \"y\":\n",
        "\n",
        "  pc_choice = random.choice(['rock','paper','scissors'])\n",
        "  userInput = input('enter rock, paper, scissors: ')\n",
        "\n",
        "  print(f'comuter chose: {pc_choice}')\n",
        "\n",
        "  if (userInput == 'rock' and pc_choice == 'scissors') or (userInput == 'paper' and pc_choice == 'rock') or (userInput == 'scissors' and pc_choice == 'paper') :\n",
        "    print (\"user wins\")\n",
        "  elif userInput == pc_choice:\n",
        "    print('its a tie')\n",
        "  else:\n",
        "    print('computer wins')\n",
        ""
      ]
    }
  ]
}