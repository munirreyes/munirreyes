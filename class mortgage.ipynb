{
  "cells": [
    {
      "cell_type": "markdown",
      "metadata": {
        "id": "view-in-github",
        "colab_type": "text"
      },
      "source": [
        "<a href=\"https://colab.research.google.com/github/munirreyes/munirreyes/blob/main/class%20mortgage.ipynb\" target=\"_parent\"><img src=\"https://colab.research.google.com/assets/colab-badge.svg\" alt=\"Open In Colab\"/></a>"
      ]
    },
    {
      "cell_type": "code",
      "execution_count": null,
      "metadata": {
        "id": "ts8YgsyM0ktH"
      },
      "outputs": [],
      "source": [
        "class Animal:\n",
        "  # This is the constructor method; used to initialize data (a.k.a. attributes)\n",
        "  # every time we create a new instance (a.k.a. object) of the class\n",
        "  def __init__(sound, genus, animate, dims, diet):\n",
        "    self.sound = sound # This is an instance attribute\n",
        "    self.genus = genus\n",
        "    self.animate = animate\n",
        "    self.dims = dims\n",
        "    self.diet = diet"
      ]
    },
    {
      "cell_type": "code",
      "execution_count": null,
      "metadata": {
        "colab": {
          "background_save": true
        },
        "id": "Oewlz4JpZi-d"
      },
      "outputs": [],
      "source": [
        "class Mortgage:\n",
        "  def __init__(self, amount, maturity, interest):\n",
        "    self.amount = amount\n",
        "    self.maturity = maturity\n",
        "    self.interest = interest\n",
        "\n",
        "  def payment(self):\n",
        "    B = self.amount\n",
        "    n = self.maturity * 12\n",
        "    r = self.interest / 100\n",
        "\n",
        "    return B * (r * (1 + r) ** n) / ((1 + r) ** n - 1)\n"
      ]
    }
  ],
  "metadata": {
    "colab": {
      "provenance": [],
      "authorship_tag": "ABX9TyO5KDneAx756ep0fiBc2OkU",
      "include_colab_link": true
    },
    "kernelspec": {
      "display_name": "Python 3",
      "name": "python3"
    },
    "language_info": {
      "name": "python"
    }
  },
  "nbformat": 4,
  "nbformat_minor": 0
}